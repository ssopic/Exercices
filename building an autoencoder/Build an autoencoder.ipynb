{
 "cells": [
  {
   "cell_type": "code",
   "execution_count": 1,
   "id": "2082f4c5",
   "metadata": {},
   "outputs": [],
   "source": [
    "#Imports\n",
    "import torch\n",
    "import numpy as np\n",
    "import matplotlib.pyplot as plt\n",
    "import pandas as pd"
   ]
  },
  {
   "cell_type": "code",
   "execution_count": 8,
   "id": "221bae19",
   "metadata": {},
   "outputs": [
    {
     "data": {
      "text/html": [
       "<div>\n",
       "<style scoped>\n",
       "    .dataframe tbody tr th:only-of-type {\n",
       "        vertical-align: middle;\n",
       "    }\n",
       "\n",
       "    .dataframe tbody tr th {\n",
       "        vertical-align: top;\n",
       "    }\n",
       "\n",
       "    .dataframe thead th {\n",
       "        text-align: right;\n",
       "    }\n",
       "</style>\n",
       "<table border=\"1\" class=\"dataframe\">\n",
       "  <thead>\n",
       "    <tr style=\"text-align: right;\">\n",
       "      <th></th>\n",
       "      <th>pixel0</th>\n",
       "      <th>pixel1</th>\n",
       "      <th>pixel2</th>\n",
       "      <th>pixel3</th>\n",
       "      <th>pixel4</th>\n",
       "      <th>pixel5</th>\n",
       "      <th>pixel6</th>\n",
       "      <th>pixel7</th>\n",
       "      <th>pixel8</th>\n",
       "      <th>pixel9</th>\n",
       "      <th>...</th>\n",
       "      <th>pixel774</th>\n",
       "      <th>pixel775</th>\n",
       "      <th>pixel776</th>\n",
       "      <th>pixel777</th>\n",
       "      <th>pixel778</th>\n",
       "      <th>pixel779</th>\n",
       "      <th>pixel780</th>\n",
       "      <th>pixel781</th>\n",
       "      <th>pixel782</th>\n",
       "      <th>pixel783</th>\n",
       "    </tr>\n",
       "  </thead>\n",
       "  <tbody>\n",
       "    <tr>\n",
       "      <th>0</th>\n",
       "      <td>0</td>\n",
       "      <td>0</td>\n",
       "      <td>0</td>\n",
       "      <td>0</td>\n",
       "      <td>0</td>\n",
       "      <td>0</td>\n",
       "      <td>0</td>\n",
       "      <td>0</td>\n",
       "      <td>0</td>\n",
       "      <td>0</td>\n",
       "      <td>...</td>\n",
       "      <td>0</td>\n",
       "      <td>0</td>\n",
       "      <td>0</td>\n",
       "      <td>0</td>\n",
       "      <td>0</td>\n",
       "      <td>0</td>\n",
       "      <td>0</td>\n",
       "      <td>0</td>\n",
       "      <td>0</td>\n",
       "      <td>0</td>\n",
       "    </tr>\n",
       "    <tr>\n",
       "      <th>1</th>\n",
       "      <td>0</td>\n",
       "      <td>0</td>\n",
       "      <td>0</td>\n",
       "      <td>0</td>\n",
       "      <td>0</td>\n",
       "      <td>0</td>\n",
       "      <td>0</td>\n",
       "      <td>0</td>\n",
       "      <td>0</td>\n",
       "      <td>0</td>\n",
       "      <td>...</td>\n",
       "      <td>0</td>\n",
       "      <td>0</td>\n",
       "      <td>0</td>\n",
       "      <td>0</td>\n",
       "      <td>0</td>\n",
       "      <td>0</td>\n",
       "      <td>0</td>\n",
       "      <td>0</td>\n",
       "      <td>0</td>\n",
       "      <td>0</td>\n",
       "    </tr>\n",
       "    <tr>\n",
       "      <th>2</th>\n",
       "      <td>0</td>\n",
       "      <td>0</td>\n",
       "      <td>0</td>\n",
       "      <td>0</td>\n",
       "      <td>0</td>\n",
       "      <td>0</td>\n",
       "      <td>0</td>\n",
       "      <td>0</td>\n",
       "      <td>0</td>\n",
       "      <td>0</td>\n",
       "      <td>...</td>\n",
       "      <td>0</td>\n",
       "      <td>0</td>\n",
       "      <td>0</td>\n",
       "      <td>0</td>\n",
       "      <td>0</td>\n",
       "      <td>0</td>\n",
       "      <td>0</td>\n",
       "      <td>0</td>\n",
       "      <td>0</td>\n",
       "      <td>0</td>\n",
       "    </tr>\n",
       "    <tr>\n",
       "      <th>3</th>\n",
       "      <td>0</td>\n",
       "      <td>0</td>\n",
       "      <td>0</td>\n",
       "      <td>0</td>\n",
       "      <td>0</td>\n",
       "      <td>0</td>\n",
       "      <td>0</td>\n",
       "      <td>0</td>\n",
       "      <td>0</td>\n",
       "      <td>0</td>\n",
       "      <td>...</td>\n",
       "      <td>0</td>\n",
       "      <td>0</td>\n",
       "      <td>0</td>\n",
       "      <td>0</td>\n",
       "      <td>0</td>\n",
       "      <td>0</td>\n",
       "      <td>0</td>\n",
       "      <td>0</td>\n",
       "      <td>0</td>\n",
       "      <td>0</td>\n",
       "    </tr>\n",
       "    <tr>\n",
       "      <th>4</th>\n",
       "      <td>0</td>\n",
       "      <td>0</td>\n",
       "      <td>0</td>\n",
       "      <td>0</td>\n",
       "      <td>0</td>\n",
       "      <td>0</td>\n",
       "      <td>0</td>\n",
       "      <td>0</td>\n",
       "      <td>0</td>\n",
       "      <td>0</td>\n",
       "      <td>...</td>\n",
       "      <td>0</td>\n",
       "      <td>0</td>\n",
       "      <td>0</td>\n",
       "      <td>0</td>\n",
       "      <td>0</td>\n",
       "      <td>0</td>\n",
       "      <td>0</td>\n",
       "      <td>0</td>\n",
       "      <td>0</td>\n",
       "      <td>0</td>\n",
       "    </tr>\n",
       "  </tbody>\n",
       "</table>\n",
       "<p>5 rows × 784 columns</p>\n",
       "</div>"
      ],
      "text/plain": [
       "   pixel0  pixel1  pixel2  pixel3  pixel4  pixel5  pixel6  pixel7  pixel8  \\\n",
       "0       0       0       0       0       0       0       0       0       0   \n",
       "1       0       0       0       0       0       0       0       0       0   \n",
       "2       0       0       0       0       0       0       0       0       0   \n",
       "3       0       0       0       0       0       0       0       0       0   \n",
       "4       0       0       0       0       0       0       0       0       0   \n",
       "\n",
       "   pixel9  ...  pixel774  pixel775  pixel776  pixel777  pixel778  pixel779  \\\n",
       "0       0  ...         0         0         0         0         0         0   \n",
       "1       0  ...         0         0         0         0         0         0   \n",
       "2       0  ...         0         0         0         0         0         0   \n",
       "3       0  ...         0         0         0         0         0         0   \n",
       "4       0  ...         0         0         0         0         0         0   \n",
       "\n",
       "   pixel780  pixel781  pixel782  pixel783  \n",
       "0         0         0         0         0  \n",
       "1         0         0         0         0  \n",
       "2         0         0         0         0  \n",
       "3         0         0         0         0  \n",
       "4         0         0         0         0  \n",
       "\n",
       "[5 rows x 784 columns]"
      ]
     },
     "execution_count": 8,
     "metadata": {},
     "output_type": "execute_result"
    }
   ],
   "source": [
    "data=pd.read_csv(\"mnist_dataset.csv\")\n",
    "data.head()"
   ]
  },
  {
   "cell_type": "code",
   "execution_count": 10,
   "id": "8d0cacdf",
   "metadata": {},
   "outputs": [],
   "source": [
    "image=data.iloc[3] #selecting image at 3\n",
    "image=np.array(image).astype(\"float32\")\n",
    "image=np.reshape(image, (28,28)) # reshaping from 1d to 2d \n",
    "image=image/255 #scaling 0-1"
   ]
  },
  {
   "cell_type": "code",
   "execution_count": 11,
   "id": "3e62db5c",
   "metadata": {},
   "outputs": [
    {
     "data": {
      "text/plain": [
       "<matplotlib.image.AxesImage at 0x7f567fb49450>"
      ]
     },
     "execution_count": 11,
     "metadata": {},
     "output_type": "execute_result"
    },
    {
     "data": {
      "image/png": "[encoded data removed]",
      "text/plain": [
       "<Figure size 640x480 with 1 Axes>"
      ]
     },
     "metadata": {},
     "output_type": "display_data"
    }
   ],
   "source": [
    "plt.imshow(image, cmap=\"gray\")"
   ]
  },
  {
   "cell_type": "code",
   "execution_count": 13,
   "id": "75e6d02a",
   "metadata": {},
   "outputs": [
    {
     "data": {
      "text/plain": [
       "<matplotlib.image.AxesImage at 0x7f56804fcb50>"
      ]
     },
     "execution_count": 13,
     "metadata": {},
     "output_type": "execute_result"
    },
    {
     "data": {
      "image/png": "[encoded data removed]",
      "text/plain": [
       "<Figure size 640x480 with 1 Axes>"
      ]
     },
     "metadata": {},
     "output_type": "display_data"
    }
   ],
   "source": [
    "#turning the image noisy to be able to remove noise\n",
    "noisy_image=image+0.2*np.random.randn(*image.shape) #adding noise\n",
    "noisy_image = np.clip(noisy_image,0,1) #making sure the image pixels are between 0 and 1\n",
    "plt.imshow(noisy_image, cmap=\"gray\")"
   ]
  },
  {
   "cell_type": "markdown",
   "id": "8f8da3e1",
   "metadata": {},
   "source": [
    "## Data preparation"
   ]
  },
  {
   "cell_type": "code",
   "execution_count": 15,
   "id": "5a7b7af9",
   "metadata": {},
   "outputs": [],
   "source": [
    "#Adding noise to the whole dataset\n",
    "#Library input\n",
    "from torch.utils.data import Dataset\n",
    "import matplotlib.pyplot as plt #The helper functions are taken from the codebase of the tutor, these are below\n",
    "\n",
    "import numpy as np \n",
    "import torch\n",
    "\n",
    "#The helper functions are taken from the codebase of the tutor, these are below\n",
    "\n",
    "\n",
    "def show_image(noisy_image,org_image,pred_image = None):\n",
    "    \n",
    "    if pred_image == None:\n",
    "        \n",
    "        f, (ax1, ax2) = plt.subplots(1, 2, figsize=(10,5))\n",
    "        \n",
    "        ax1.set_title('noisy_image')\n",
    "        ax1.imshow(noisy_image.permute(1,2,0).squeeze(),cmap = 'gray')\n",
    "        \n",
    "        ax2.set_title('original_image')\n",
    "        ax2.imshow(org_image.permute(1,2,0).squeeze(),cmap = 'gray')\n",
    "        \n",
    "    elif pred_image != None :\n",
    "        \n",
    "        f, (ax1, ax2,ax3) = plt.subplots(1, 3, figsize=(10,5))\n",
    "        \n",
    "        ax1.set_title('noisy_image')\n",
    "        ax1.imshow(noisy_image.permute(1,2,0).squeeze(),cmap = 'gray')\n",
    "        \n",
    "        ax2.set_title('original_image')\n",
    "        ax2.imshow(org_image.permute(1,2,0).squeeze(),cmap = 'gray')\n",
    "        \n",
    "        ax3.set_title('denoised_image')\n",
    "        ax3.imshow(pred_image.permute(1,2,0).squeeze(),cmap = 'gray')\n",
    "        \n",
    "        \n",
    "class ToTensorForAE(object):\n",
    "    \n",
    "    def __call__(self,sample):\n",
    "        \n",
    "        images,labels = sample\n",
    "        \n",
    "        images = images.transpose((2,0,1))\n",
    "        labels = labels.transpose((2,0,1))\n",
    "        \n",
    "        return torch.from_numpy(images).float(),torch.from_numpy(labels).float()"
   ]
  },
  {
   "cell_type": "code",
   "execution_count": 17,
   "id": "36339210",
   "metadata": {},
   "outputs": [],
   "source": [
    "class MNIST_AE_Dataset(Dataset):\n",
    "    \n",
    "    def __init__(self, csv_file, noise_factor=0.2, transform = None):\n",
    "        \n",
    "        self.data=pd.read_csv(csv_file)\n",
    "        self.noise_factor=noise_factor\n",
    "        self.transform=transform\n",
    "    \n",
    "    def __len__(self):\n",
    "        return len(self.data)\n",
    "    \n",
    "    def __getitem__(self,idx):\n",
    "        \n",
    "        img = self.data.iloc[idx]\n",
    "        img = np.array(img)\n",
    "        img = np.reshape(img, (28,28,1)) /255 #length, width, levels (1 because we use greyscale)\n",
    "        \n",
    "        noisy_image = img + self.noise_factor * np.random.randn(*img.shape)\n",
    "        noisy_image = np.clip(noisy_image,0,1)\n",
    "        \n",
    "        sample = (noisy_image, img)\n",
    "        \n",
    "        if self.transform:\n",
    "            sample = self.transform(sample)\n",
    "        \n",
    "        return sample\n"
   ]
  },
  {
   "cell_type": "code",
   "execution_count": 18,
   "id": "b0e4ced6",
   "metadata": {},
   "outputs": [],
   "source": [
    "trainset = MNIST_AE_Dataset(\"mnist_dataset.csv\", transform=ToTensorForAE())"
   ]
  },
  {
   "cell_type": "code",
   "execution_count": 26,
   "id": "979f7d3f",
   "metadata": {},
   "outputs": [
    {
     "name": "stdout",
     "output_type": "stream",
     "text": [
      "The size of the trainset is : 42000\n"
     ]
    }
   ],
   "source": [
    "print(\"The size of the trainset is : {}\".format(len(trainset)))\n",
    "#These are the images themselves"
   ]
  },
  {
   "cell_type": "code",
   "execution_count": 27,
   "id": "78d5b66e",
   "metadata": {},
   "outputs": [],
   "source": [
    "noisy_image, img = trainset[18]"
   ]
  },
  {
   "cell_type": "code",
   "execution_count": 33,
   "id": "d32941c9",
   "metadata": {},
   "outputs": [
    {
     "data": {
      "image/png": "[encoded data removed]",
      "text/plain": [
       "<Figure size 1000x500 with 2 Axes>"
      ]
     },
     "metadata": {},
     "output_type": "display_data"
    }
   ],
   "source": [
    "show_image(org_image=img, noisy_image=noisy_image)"
   ]
  },
  {
   "cell_type": "markdown",
   "id": "efa63b7a",
   "metadata": {},
   "source": [
    "## Load dataset into batches"
   ]
  },
  {
   "cell_type": "code",
   "execution_count": 34,
   "id": "cd00020d",
   "metadata": {},
   "outputs": [],
   "source": [
    "from torch.utils.data import DataLoader"
   ]
  },
  {
   "cell_type": "code",
   "execution_count": 35,
   "id": "d95e4d5d",
   "metadata": {},
   "outputs": [],
   "source": [
    "trainloader= DataLoader(trainset, batch_size=16, shuffle = True)"
   ]
  },
  {
   "cell_type": "code",
   "execution_count": 38,
   "id": "8a50b15b",
   "metadata": {},
   "outputs": [
    {
     "name": "stdout",
     "output_type": "stream",
     "text": [
      "Shape of loading one batch: torch.Size([16, 1, 28, 28])\n",
      "Total number of batches: 2625\n",
      "Total number of images in the dataset: 42000\n"
     ]
    }
   ],
   "source": [
    "#for noisy_image, img in trainloader:...   #this would be for loading everything, as we want to use\n",
    "# batch loading we use:\n",
    "dataiter = iter(trainloader)\n",
    "noisy_image, img = next(dataiter)\n",
    "print(\"Shape of loading one batch: {}\".format(noisy_image.shape))\n",
    "print(\"Total number of batches: {}\".format(len(trainloader)))\n",
    "print(\"Total number of images in the dataset: {}\".format(len(trainloader.dataset)))"
   ]
  },
  {
   "cell_type": "markdown",
   "id": "8b08498b",
   "metadata": {},
   "source": [
    "## Create autoencoder model"
   ]
  },
  {
   "cell_type": "code",
   "execution_count": 41,
   "id": "8eee0dcd",
   "metadata": {},
   "outputs": [
    {
     "name": "stdout",
     "output_type": "stream",
     "text": [
      "Defaulting to user installation because normal site-packages is not writeable\n",
      "Collecting torchsummary\n",
      "  Downloading torchsummary-1.5.1-py3-none-any.whl (2.8 kB)\n",
      "Installing collected packages: torchsummary\n",
      "Successfully installed torchsummary-1.5.1\n",
      "\n",
      "\u001b[1m[\u001b[0m\u001b[34;49mnotice\u001b[0m\u001b[1;39;49m]\u001b[0m\u001b[39;49m A new release of pip is available: \u001b[0m\u001b[31;49m23.0.1\u001b[0m\u001b[39;49m -> \u001b[0m\u001b[32;49m23.2\u001b[0m\n",
      "\u001b[1m[\u001b[0m\u001b[34;49mnotice\u001b[0m\u001b[1;39;49m]\u001b[0m\u001b[39;49m To update, run: \u001b[0m\u001b[32;49mpython3 -m pip install --upgrade pip\u001b[0m\n"
     ]
    }
   ],
   "source": [
    "!pip install torchsummary"
   ]
  },
  {
   "cell_type": "code",
   "execution_count": 42,
   "id": "0fca17ad",
   "metadata": {},
   "outputs": [],
   "source": [
    "from torch import nn\n",
    "from torchsummary import summary"
   ]
  },
  {
   "cell_type": "code",
   "execution_count": 68,
   "id": "c0b18be6",
   "metadata": {},
   "outputs": [],
   "source": [
    "def Encoder():\n",
    "    enc=nn.Sequential(\n",
    "        \n",
    "        nn.Conv2d(in_channels=1,out_channels=16, kernel_size=(3,3), padding = 1),\n",
    "        nn.ReLU(),\n",
    "        nn.MaxPool2d(kernel_size=(2,2)),\n",
    "        nn.Conv2d(in_channels=16,out_channels=32, kernel_size=(3,3), padding = 1),\n",
    "        nn.ReLU(),\n",
    "        nn.MaxPool2d(kernel_size=(2,2))\n",
    "    )\n",
    "    return enc"
   ]
  },
  {
   "cell_type": "code",
   "execution_count": 69,
   "id": "ecac5021",
   "metadata": {},
   "outputs": [],
   "source": [
    "def Decoder():\n",
    "    dec = nn.Sequential(\n",
    "    nn.ConvTranspose2d(in_channels=32, out_channels=16, kernel_size=(2,2), stride = 2),\n",
    "    nn.ReLU(),\n",
    "    nn.ConvTranspose2d(in_channels=16, out_channels=1, kernel_size=(2,2), stride = 2),\n",
    "    nn.Sigmoid()\n",
    "    )\n",
    "    return dec"
   ]
  },
  {
   "cell_type": "code",
   "execution_count": 70,
   "id": "f81d779a",
   "metadata": {},
   "outputs": [
    {
     "name": "stdout",
     "output_type": "stream",
     "text": [
      "----------------------------------------------------------------\n",
      "        Layer (type)               Output Shape         Param #\n",
      "================================================================\n",
      "            Conv2d-1           [-1, 16, 28, 28]             160\n",
      "              ReLU-2           [-1, 16, 28, 28]               0\n",
      "         MaxPool2d-3           [-1, 16, 14, 14]               0\n",
      "            Conv2d-4           [-1, 32, 14, 14]           4,640\n",
      "              ReLU-5           [-1, 32, 14, 14]               0\n",
      "         MaxPool2d-6             [-1, 32, 7, 7]               0\n",
      "   ConvTranspose2d-7           [-1, 16, 14, 14]           2,064\n",
      "              ReLU-8           [-1, 16, 14, 14]               0\n",
      "   ConvTranspose2d-9            [-1, 1, 28, 28]              65\n",
      "          Sigmoid-10            [-1, 1, 28, 28]               0\n",
      "================================================================\n",
      "Total params: 6,929\n",
      "Trainable params: 6,929\n",
      "Non-trainable params: 0\n",
      "----------------------------------------------------------------\n",
      "Input size (MB): 0.00\n",
      "Forward/backward pass size (MB): 0.38\n",
      "Params size (MB): 0.03\n",
      "Estimated Total Size (MB): 0.41\n",
      "----------------------------------------------------------------\n"
     ]
    }
   ],
   "source": [
    "from torchsummary import summary\n",
    "\n",
    "# ... (Encoder and Decoder definitions)\n",
    "\n",
    "# Connect the layers and create the autoencoder\n",
    "class AutoEncoder(nn.Module):\n",
    "    \n",
    "    def __init__(self):\n",
    "        super(AutoEncoder, self).__init__()\n",
    "    \n",
    "        self.encoder = Encoder()\n",
    "        self.decoder = Decoder()\n",
    "    \n",
    "    def forward(self, inp_imgs):\n",
    "        encoder_out = self.encoder(inp_imgs)\n",
    "        decoder_out = self.decoder(encoder_out)\n",
    "        \n",
    "        return decoder_out\n",
    "\n",
    "model = AutoEncoder()\n",
    "\n",
    "summary(model, input_size=(1, 28, 28))\n"
   ]
  },
  {
   "cell_type": "code",
   "execution_count": 71,
   "id": "9a698bef",
   "metadata": {},
   "outputs": [
    {
     "data": {
      "text/plain": [
       "AutoEncoder(\n",
       "  (encoder): Sequential(\n",
       "    (0): Conv2d(1, 16, kernel_size=(3, 3), stride=(1, 1), padding=(1, 1))\n",
       "    (1): ReLU()\n",
       "    (2): MaxPool2d(kernel_size=(2, 2), stride=(2, 2), padding=0, dilation=1, ceil_mode=False)\n",
       "    (3): Conv2d(16, 32, kernel_size=(3, 3), stride=(1, 1), padding=(1, 1))\n",
       "    (4): ReLU()\n",
       "    (5): MaxPool2d(kernel_size=(2, 2), stride=(2, 2), padding=0, dilation=1, ceil_mode=False)\n",
       "  )\n",
       "  (decoder): Sequential(\n",
       "    (0): ConvTranspose2d(32, 16, kernel_size=(2, 2), stride=(2, 2))\n",
       "    (1): ReLU()\n",
       "    (2): ConvTranspose2d(16, 1, kernel_size=(2, 2), stride=(2, 2))\n",
       "    (3): Sigmoid()\n",
       "  )\n",
       ")"
      ]
     },
     "execution_count": 71,
     "metadata": {},
     "output_type": "execute_result"
    }
   ],
   "source": [
    "model"
   ]
  },
  {
   "cell_type": "code",
   "execution_count": 72,
   "id": "f3b3dee6",
   "metadata": {},
   "outputs": [
    {
     "name": "stdout",
     "output_type": "stream",
     "text": [
      "----------------------------------------------------------------\n",
      "        Layer (type)               Output Shape         Param #\n",
      "================================================================\n",
      "            Conv2d-1           [-1, 16, 28, 28]             160\n",
      "              ReLU-2           [-1, 16, 28, 28]               0\n",
      "         MaxPool2d-3           [-1, 16, 14, 14]               0\n",
      "            Conv2d-4           [-1, 32, 14, 14]           4,640\n",
      "              ReLU-5           [-1, 32, 14, 14]               0\n",
      "         MaxPool2d-6             [-1, 32, 7, 7]               0\n",
      "   ConvTranspose2d-7           [-1, 16, 14, 14]           2,064\n",
      "              ReLU-8           [-1, 16, 14, 14]               0\n",
      "   ConvTranspose2d-9            [-1, 1, 28, 28]              65\n",
      "          Sigmoid-10            [-1, 1, 28, 28]               0\n",
      "================================================================\n",
      "Total params: 6,929\n",
      "Trainable params: 6,929\n",
      "Non-trainable params: 0\n",
      "----------------------------------------------------------------\n",
      "Input size (MB): 0.00\n",
      "Forward/backward pass size (MB): 0.38\n",
      "Params size (MB): 0.03\n",
      "Estimated Total Size (MB): 0.41\n",
      "----------------------------------------------------------------\n"
     ]
    }
   ],
   "source": [
    "summary(model, input_size=(1,28,28))"
   ]
  },
  {
   "cell_type": "markdown",
   "id": "cabc49f3",
   "metadata": {},
   "source": [
    "## Train AutoEncoder Model"
   ]
  },
  {
   "cell_type": "code",
   "execution_count": 73,
   "id": "d98f2f92",
   "metadata": {},
   "outputs": [],
   "source": [
    "from tqdm import tqdm #used to show loop progress, just put it around the range\n",
    "\n",
    "optimizer = torch.optim.Adam(model.parameters(), lr = 0.001)\n",
    "criterion = nn.MSELoss()\n",
    "epochs = 10\n"
   ]
  },
  {
   "cell_type": "code",
   "execution_count": 76,
   "id": "2d65b7df",
   "metadata": {},
   "outputs": [
    {
     "name": "stderr",
     "output_type": "stream",
     "text": [
      " 10%|██████▍                                                         | 1/10 [00:26<04:00, 26.74s/it]"
     ]
    },
    {
     "name": "stdout",
     "output_type": "stream",
     "text": [
      "epoch : 1 Train loss : 0.005381235215458132 \n"
     ]
    },
    {
     "name": "stderr",
     "output_type": "stream",
     "text": [
      "\r",
      " 20%|████████████▊                                                   | 2/10 [00:51<03:23, 25.43s/it]"
     ]
    },
    {
     "name": "stdout",
     "output_type": "stream",
     "text": [
      "epoch : 2 Train loss : 0.005038210211144317 \n"
     ]
    },
    {
     "name": "stderr",
     "output_type": "stream",
     "text": [
      "\r",
      " 30%|███████████████████▏                                            | 3/10 [01:12<02:43, 23.34s/it]"
     ]
    },
    {
     "name": "stdout",
     "output_type": "stream",
     "text": [
      "epoch : 3 Train loss : 0.004858080016803884 \n"
     ]
    },
    {
     "name": "stderr",
     "output_type": "stream",
     "text": [
      "\r",
      " 40%|█████████████████████████▌                                      | 4/10 [01:32<02:12, 22.14s/it]"
     ]
    },
    {
     "name": "stdout",
     "output_type": "stream",
     "text": [
      "epoch : 4 Train loss : 0.004759153662959025 \n"
     ]
    },
    {
     "name": "stderr",
     "output_type": "stream",
     "text": [
      "\r",
      " 50%|████████████████████████████████                                | 5/10 [02:00<02:01, 24.21s/it]"
     ]
    },
    {
     "name": "stdout",
     "output_type": "stream",
     "text": [
      "epoch : 5 Train loss : 0.004674654650191466 \n"
     ]
    },
    {
     "name": "stderr",
     "output_type": "stream",
     "text": [
      "\r",
      " 60%|██████████████████████████████████████▍                         | 6/10 [02:25<01:38, 24.54s/it]"
     ]
    },
    {
     "name": "stdout",
     "output_type": "stream",
     "text": [
      "epoch : 6 Train loss : 0.004612635281735233 \n"
     ]
    },
    {
     "name": "stderr",
     "output_type": "stream",
     "text": [
      "\r",
      " 70%|████████████████████████████████████████████▊                   | 7/10 [02:52<01:16, 25.34s/it]"
     ]
    },
    {
     "name": "stdout",
     "output_type": "stream",
     "text": [
      "epoch : 7 Train loss : 0.004575598614379054 \n"
     ]
    },
    {
     "name": "stderr",
     "output_type": "stream",
     "text": [
      "\r",
      " 80%|███████████████████████████████████████████████████▏            | 8/10 [03:20<00:52, 26.22s/it]"
     ]
    },
    {
     "name": "stdout",
     "output_type": "stream",
     "text": [
      "epoch : 8 Train loss : 0.004538816334591025 \n"
     ]
    },
    {
     "name": "stderr",
     "output_type": "stream",
     "text": [
      "\r",
      " 90%|█████████████████████████████████████████████████████████▌      | 9/10 [03:45<00:25, 25.67s/it]"
     ]
    },
    {
     "name": "stdout",
     "output_type": "stream",
     "text": [
      "epoch : 9 Train loss : 0.004503044821144569 \n"
     ]
    },
    {
     "name": "stderr",
     "output_type": "stream",
     "text": [
      "100%|███████████████████████████████████████████████████████████████| 10/10 [04:13<00:00, 25.32s/it]"
     ]
    },
    {
     "name": "stdout",
     "output_type": "stream",
     "text": [
      "epoch : 10 Train loss : 0.004483645121433905 \n"
     ]
    },
    {
     "name": "stderr",
     "output_type": "stream",
     "text": [
      "\n"
     ]
    }
   ],
   "source": [
    "for i in tqdm(range(epochs)): #tqdm is used to show progress\n",
    "    train_loss=0.0\n",
    "    model.train()\n",
    "    for batch in trainloader:\n",
    "        noisy_image, img = batch\n",
    "        denoise_image= model(noisy_image)\n",
    "        loss= criterion(denoise_image, img)\n",
    "        \n",
    "        optimizer.zero_grad()\n",
    "        loss.backward()\n",
    "        optimizer.step()\n",
    "        \n",
    "        train_loss += loss.item()\n",
    "    avg_train_loss = train_loss/len(trainloader)\n",
    "    \n",
    "    print(\"epoch : {} Train loss : {} \". format(i+1, avg_train_loss))\n",
    "        "
   ]
  },
  {
   "cell_type": "code",
   "execution_count": 80,
   "id": "78ef7e16",
   "metadata": {},
   "outputs": [
    {
     "name": "stdout",
     "output_type": "stream",
     "text": [
      "torch.Size([1, 28, 28])\n"
     ]
    },
    {
     "data": {
      "image/png": "[encoded data removed]",
      "text/plain": [
       "<Figure size 1000x500 with 3 Axes>"
      ]
     },
     "metadata": {},
     "output_type": "display_data"
    }
   ],
   "source": [
    "model.eval()\n",
    "\n",
    "with torch.no_grad():\n",
    "    \n",
    "    dataiter= iter(trainloader)\n",
    "    sample = next(dataiter)\n",
    "    noisy_image, img = sample \n",
    "    \n",
    "    index = 2\n",
    "    \n",
    "    denoised_img= model(noisy_image[index].unsqueeze(0))\n",
    "    print(denoised_img.squeeze(0).shape)\n",
    "    \n",
    "    show_image(noisy_image[index], img[index], denoised_img.squeeze(0))"
   ]
  },
  {
   "cell_type": "code",
   "execution_count": null,
   "id": "785c650d",
   "metadata": {},
   "outputs": [],
   "source": []
  }
 ],
 "metadata": {
  "kernelspec": {
   "display_name": "Python 3 (ipykernel)",
   "language": "python",
   "name": "python3"
  },
  "language_info": {
   "codemirror_mode": {
    "name": "ipython",
    "version": 3
   },
   "file_extension": ".py",
   "mimetype": "text/x-python",
   "name": "python",
   "nbconvert_exporter": "python",
   "pygments_lexer": "ipython3",
   "version": "3.10.6"
  }
 },
 "nbformat": 4,
 "nbformat_minor": 5
}
